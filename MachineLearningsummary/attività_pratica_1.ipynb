{
  "nbformat": 4,
  "nbformat_minor": 0,
  "metadata": {
    "colab": {
      "name": "FEMIA - attività pratica 2",
      "provenance": []
    },
    "kernelspec": {
      "name": "python3",
      "display_name": "Python 3"
    },
    "language_info": {
      "name": "python"
    }
  },
  "cells": [
    {
      "cell_type": "code",
      "metadata": {
        "colab": {
          "base_uri": "https://localhost:8080/"
        },
        "id": "mmPiOHtF6rAF",
        "outputId": "95e4eeb5-35c2-43dc-db82-1135ba859e31"
      },
      "source": [
        "lista1 = [25, 45, 12, 4, 18, 33, 1]\n",
        "def funzione1(lista1):\n",
        "  lista1.sort(reverse= True)\n",
        "  print(lista1)\n",
        "\n",
        "funzione1(lista1)"
      ],
      "execution_count": null,
      "outputs": [
        {
          "output_type": "stream",
          "name": "stdout",
          "text": [
            "[45, 33, 25, 18, 12, 4, 1]\n"
          ]
        }
      ]
    },
    {
      "cell_type": "code",
      "metadata": {
        "colab": {
          "base_uri": "https://localhost:8080/"
        },
        "id": "0RLGxL6Z7fh_",
        "outputId": "53ea3220-68a8-470a-acdd-1b5381cf4a03"
      },
      "source": [
        "lista1 = [25, 45, 12, 4, 18, 33, 1]\n",
        "somma = 0\n",
        "def funzione2(lista1, somma):\n",
        "  for n in lista1:\n",
        "   if n % 2 == 0:\n",
        "    somma = somma + n\n",
        "  print(somma)\n",
        "\n",
        "funzione2(lista1, somma)\n"
      ],
      "execution_count": null,
      "outputs": [
        {
          "output_type": "stream",
          "name": "stdout",
          "text": [
            "34\n"
          ]
        }
      ]
    },
    {
      "cell_type": "code",
      "metadata": {
        "colab": {
          "base_uri": "https://localhost:8080/"
        },
        "id": "ypxxavhYJmi4",
        "outputId": "998f1eda-5df8-4ae2-a048-21159bcfb2d4"
      },
      "source": [
        "stringa = \"notebook\"\n",
        "x = \"\"\n",
        "def funzione3(stringa):\n",
        "  x = stringa[::-1]\n",
        "  print(x.upper())\n",
        "\n",
        "funzione3(stringa)"
      ],
      "execution_count": null,
      "outputs": [
        {
          "output_type": "stream",
          "name": "stdout",
          "text": [
            "KOOBETON\n"
          ]
        }
      ]
    },
    {
      "cell_type": "code",
      "metadata": {
        "colab": {
          "base_uri": "https://localhost:8080/"
        },
        "id": "S5dHacbLRZvB",
        "outputId": "3fb8f127-c7cd-416e-b2df-4af71f2e79c6"
      },
      "source": [
        "stringa = \"ciao mi chiamo ross\"\n",
        "stringa2 = \"o\"\n",
        "\n",
        "def funzione4(stringa, stringa2):\n",
        "  print(stringa.count(stringa2))\n",
        "\n",
        "funzione4(stringa, stringa2)"
      ],
      "execution_count": null,
      "outputs": [
        {
          "output_type": "stream",
          "name": "stdout",
          "text": [
            "3\n"
          ]
        }
      ]
    },
    {
      "cell_type": "code",
      "metadata": {
        "colab": {
          "base_uri": "https://localhost:8080/"
        },
        "id": "PE4O8b-5TwuY",
        "outputId": "a35dd4e1-be3e-47ce-896d-9890bb9c4605"
      },
      "source": [
        "lista1 = [25, 45, 12, 4, 18, 33, 1]\n",
        "\n",
        "def describe(lista1):\n",
        "  print(len(lista1))\n",
        "  print(min(lista1))\n",
        "  print(max(lista1))\n",
        "  print(sum(lista1) / len(lista1))\n",
        "\n",
        "describe(lista1)"
      ],
      "execution_count": null,
      "outputs": [
        {
          "output_type": "stream",
          "name": "stdout",
          "text": [
            "7\n",
            "1\n",
            "45\n",
            "19.714285714285715\n"
          ]
        }
      ]
    },
    {
      "cell_type": "code",
      "metadata": {
        "colab": {
          "base_uri": "https://localhost:8080/"
        },
        "id": "e-xnabcKWTRO",
        "outputId": "30d80709-c2bc-4186-e363-1e944abd8b32"
      },
      "source": [
        "import random\n",
        "\n",
        "def funzione6():\n",
        "\n",
        "  N = input(\"inserisci un numero da 1 a 50: \")\n",
        "  listaNumeri = random.sample(range(100), int(N))\n",
        "\n",
        "  def maggiore60(listaNumeri):\n",
        "    listmagg = []\n",
        "    for n in listaNumeri:\n",
        "      if n >= 60:\n",
        "       listmagg.append(\"1\")\n",
        "      else:\n",
        "       listmagg.append(\"0\")\n",
        "    return(listmagg)\n",
        "\n",
        "  def minore60(listaNumeri):\n",
        "    listmin = []\n",
        "    for n in listaNumeri:\n",
        "      if n < 60:\n",
        "       listmin.append(\"1\")\n",
        "      else:\n",
        "       listmin.append(\"0\")\n",
        "    return(listmin)\n",
        "\n",
        "  print(\"lista dei numeri: \", listaNumeri)\n",
        "  print(\"numeri >60: \", maggiore60(listaNumeri))\n",
        "  print(\"numeri <60: \", minore60(listaNumeri))\n",
        "\n",
        "funzione6()"
      ],
      "execution_count": 45,
      "outputs": [
        {
          "output_type": "stream",
          "name": "stdout",
          "text": [
            "inserisci un numero da 1 a 50: 50\n",
            "lista dei numeri:  [0, 32, 41, 39, 80, 20, 99, 42, 64, 98, 22, 65, 31, 92, 45, 38, 48, 88, 82, 12, 49, 3, 93, 25, 10, 52, 47, 35, 27, 1, 73, 54, 84, 16, 57, 33, 37, 78, 59, 60, 69, 70, 71, 51, 43, 97, 89, 21, 28, 24]\n",
            "numeri >60:  ['0', '0', '0', '0', '1', '0', '1', '0', '1', '1', '0', '1', '0', '1', '0', '0', '0', '1', '1', '0', '0', '0', '1', '0', '0', '0', '0', '0', '0', '0', '1', '0', '1', '0', '0', '0', '0', '1', '0', '1', '1', '1', '1', '0', '0', '1', '1', '0', '0', '0']\n",
            "numeri <60:  ['1', '1', '1', '1', '0', '1', '0', '1', '0', '0', '1', '0', '1', '0', '1', '1', '1', '0', '0', '1', '1', '1', '0', '1', '1', '1', '1', '1', '1', '1', '0', '1', '0', '1', '1', '1', '1', '0', '1', '0', '0', '0', '0', '1', '1', '0', '0', '1', '1', '1']\n"
          ]
        }
      ]
    },
    {
      "cell_type": "code",
      "metadata": {
        "id": "ghGznsxa3X3J"
      },
      "source": [
        ""
      ],
      "execution_count": null,
      "outputs": []
    }
  ]
}